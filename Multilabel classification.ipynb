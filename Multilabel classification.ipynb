{
 "cells": [
  {
   "cell_type": "markdown",
   "id": "6a733cec",
   "metadata": {},
   "source": [
    "# Multi-label classification \n",
    "\n",
    "It is a variant of the classification problem where multiple target labels must be assigned to each sample\n",
    "\n",
    "MultLabelTrainData contains 103 features with 500 samples. MultLabelTestData contains 103 features with 100 samples. The label file for the train data can be download at MultLabelTrainLabel\n",
    "\n",
    "In the following dataset, there are totally 14 target labels. The samples in the training dataset are assigned with more than one target label. For example, in the first sample MultLabelTrainLabel, the label assignment for the first sample is 7, 8, 12 and 13. Those positions are marked with 1.\n",
    "\n",
    "0\t0\t0\t0\t0\t0\t1\t1\t0\t0\t0\t1\t1\t0\n",
    "\n",
    "Please predict the labels for the test samples. The output file format of Testing Label should be consistent with MultLabelTrainLabel. For example, if there are 3 test samples where the predicting labels for the first sample is that it has label of 2, 3, the predicting label for the second sample is 12, 14, and the predicting labels for the third one is 2, 5. The output is as follows:\n",
    "\n",
    "0\t1\t1\t0\t0\t0\t0\t0\t0\t0\t0\t0\t0\t0\n",
    "0\t0\t0\t0\t0\t0\t0\t0\t0\t0\t0\t1\t0\t1\n",
    "0\t1\t0\t0\t1\t0\t0\t0\t0\t0\t0\t0\t0\t0"
   ]
  },
  {
   "cell_type": "code",
   "execution_count": 1,
   "id": "00554f26",
   "metadata": {},
   "outputs": [],
   "source": [
    "import numpy as np\n",
    "import pandas as pd\n",
    "from sklearn import datasets\n",
    "from sklearn.model_selection import train_test_split\n",
    "from sklearn.preprocessing import StandardScaler\n",
    "from sklearn.neighbors import KNeighborsClassifier\n",
    "from sklearn.multioutput import MultiOutputClassifier"
   ]
  },
  {
   "cell_type": "code",
   "execution_count": 2,
   "id": "2ca32eb8",
   "metadata": {},
   "outputs": [
    {
     "data": {
      "text/plain": [
       "(500, 103)"
      ]
     },
     "execution_count": 2,
     "metadata": {},
     "output_type": "execute_result"
    }
   ],
   "source": [
    "#Loading the data\n",
    "\n",
    "ml = np.loadtxt('MultLabelTrainData.txt')\n",
    "ml_label = np.loadtxt('MultLabelTrainLabel.txt')\n",
    "ml.shape"
   ]
  },
  {
   "cell_type": "code",
   "execution_count": 3,
   "id": "a990e80f",
   "metadata": {},
   "outputs": [],
   "source": [
    "# Normalizing the Data and splitting it\n",
    "scaler = StandardScaler()\n",
    "ml = scaler.fit_transform(ml)\n",
    "X_train, X_test, Y_train, Y_test = train_test_split( ml, ml_label, test_size = 0.2, random_state = 0 )"
   ]
  },
  {
   "cell_type": "code",
   "execution_count": 4,
   "id": "10d1c957",
   "metadata": {},
   "outputs": [
    {
     "data": {
      "text/plain": [
       "0.21"
      ]
     },
     "execution_count": 4,
     "metadata": {},
     "output_type": "execute_result"
    }
   ],
   "source": [
    "clf5 = MultiOutputClassifier(KNeighborsClassifier(n_neighbors=5)).fit(X_train, Y_train)\n",
    "clf5.score(X_test, Y_test)"
   ]
  },
  {
   "cell_type": "code",
   "execution_count": 5,
   "id": "339034b8",
   "metadata": {},
   "outputs": [
    {
     "data": {
      "text/plain": [
       "0.22071428571428572"
      ]
     },
     "execution_count": 5,
     "metadata": {},
     "output_type": "execute_result"
    }
   ],
   "source": [
    "#Calculating Hamming score which can score for partial matches\n",
    "x = clf5.predict(X_test)\n",
    "from sklearn.metrics import hamming_loss\n",
    "hamming_loss(x, Y_test)"
   ]
  },
  {
   "cell_type": "code",
   "execution_count": 6,
   "id": "626b7339",
   "metadata": {},
   "outputs": [],
   "source": [
    "mltest = np.loadtxt('MultLabelTestData.txt')\n",
    "pred = clf5.predict(mltest)\n",
    "np.savetxt(\"GelliMultiLabelClassification.txt\", pred, fmt='%d')"
   ]
  },
  {
   "cell_type": "code",
   "execution_count": 7,
   "id": "81f91dbd",
   "metadata": {},
   "outputs": [],
   "source": [
    "df1 = pd.DataFrame(pred)\n",
    "df1.head()\n",
    "df1.to_csv(\"GelliMultiLabelClassification.txt\", header=None, index=None, sep=' ',float_format='%.0f')"
   ]
  },
  {
   "cell_type": "code",
   "execution_count": null,
   "id": "6d26d6b4",
   "metadata": {},
   "outputs": [],
   "source": []
  },
  {
   "cell_type": "code",
   "execution_count": null,
   "id": "d4c6400b",
   "metadata": {},
   "outputs": [],
   "source": []
  }
 ],
 "metadata": {
  "kernelspec": {
   "display_name": "Python 3",
   "language": "python",
   "name": "python3"
  },
  "language_info": {
   "codemirror_mode": {
    "name": "ipython",
    "version": 3
   },
   "file_extension": ".py",
   "mimetype": "text/x-python",
   "name": "python",
   "nbconvert_exporter": "python",
   "pygments_lexer": "ipython3",
   "version": "3.8.8"
  }
 },
 "nbformat": 4,
 "nbformat_minor": 5
}

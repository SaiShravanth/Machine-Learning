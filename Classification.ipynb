{
 "cells": [
  {
   "cell_type": "markdown",
   "id": "943e2f96",
   "metadata": {},
   "source": [
    "# Classification\n",
    "Classificationis to identify which category a new observation belongs to, on the basis of a training dataset. There are five datasets. For each dataset, we provide the training dataset, training label, and test dataset. Please use the training dataset and training label to build your classifier and predict the test label. A class label is represented by an integer. For example, in the 1st dataset, there are 4 classes where 1 represents the 1st class, 2 represents the 2nd class, etc. Note that, there exist some missing values in some of the dataset (a missing entry is filled by 1.00000000000000e+99), please fill the missing values before perform your classification algorithm.\n",
    "\n",
    "TrainData 1 contains 3312 features with 150 samples. Testdata1 contains 3312 features with 53 samples. There are 5 classes in this dataset.\n",
    "\n",
    "TrainData 2 contains 9182 features with 100 samples. Testdata2 contains 9182 features with 74 samples. There are 11 classes in this dataset.\n",
    "\n",
    "TrainData 3 contains 13  features with 6300 samples. Testdata3 contains 13 features with 2693 samples. There are 9 classes in this dataset.\n",
    "\n",
    "TrainData 4 contains 112 features with 2547 samples. Testdata4 contains 112 features with 1092 samples. There are 9 classes in this dataset.\n",
    "\n",
    "TrainData 5 contains 11 features with 1119 samples. Testdata5 contains 11 features with 480 samples. There are 6 classes in this dataset.\n",
    "\n",
    "TrainData 6 contains 142 features with 612 samples. Testdata6 contains 142 features with 262 samples. This is not a classification problem. You are asked to predict the real value"
   ]
  },
  {
   "cell_type": "code",
   "execution_count": 1,
   "id": "d6a7f7b5",
   "metadata": {},
   "outputs": [],
   "source": [
    "import numpy as np\n",
    "import matplotlib.pyplot as plt\n",
    "from sklearn import datasets\n",
    "from sklearn.model_selection import train_test_split\n",
    "from sklearn.decomposition import PCA\n",
    "from sklearn.discriminant_analysis import LinearDiscriminantAnalysis\n",
    "from sklearn.neighbors import KNeighborsClassifier, NeighborhoodComponentsAnalysis\n",
    "from sklearn.pipeline import make_pipeline\n",
    "from sklearn.preprocessing import StandardScaler"
   ]
  },
  {
   "cell_type": "code",
   "execution_count": 2,
   "id": "bea3a8d0",
   "metadata": {},
   "outputs": [],
   "source": [
    "import warnings\n",
    "warnings.filterwarnings(\"ignore\")"
   ]
  },
  {
   "cell_type": "code",
   "execution_count": 3,
   "id": "9b4c7270",
   "metadata": {},
   "outputs": [],
   "source": [
    "# K Nearest Neighbors Classification\n",
    "from scipy.stats import mode\n",
    "\n",
    "class K_Nearest_Neighbors_Classifier() :\n",
    "\n",
    "    def __init__( self, K ) :\n",
    "        self.K = K\n",
    "\n",
    "# Function to store training set\n",
    "    def fit( self, X_train, Y_train ) :\n",
    "        self.X_train = X_train\n",
    "        self.Y_train = Y_train\n",
    "        self.m, self.n = X_train.shape\n",
    "        \n",
    "        # Function for prediction    \n",
    "    def predict( self, X_test ) :\n",
    "        self.X_test = X_test\n",
    "        self.m_test, self.n = X_test.shape\n",
    "        # initialize Y_predict\n",
    "        Y_predict = np.zeros( self.m_test )\n",
    "        for i in range( self.m_test ) :\n",
    "            x = self.X_test[i]\n",
    "            # find the K nearest neighbors from current test example\n",
    "            neighbors = np.zeros( self.K )\n",
    "            neighbors = self.find_neighbors( x )\n",
    "            # most frequent class in K neighbors\n",
    "            Y_predict[i] = mode( neighbors )[0][0]\t\n",
    "        return Y_predict\n",
    "        \n",
    "    # Function to find the K nearest neighbors to current test example\n",
    "    def find_neighbors( self, x ) :\n",
    "        # calculate all the euclidean distances between current\n",
    "        # test example x and training set X_train\n",
    "        euclidean_distances = np.zeros( self.m )\n",
    "        for i in range( self.m ) :\n",
    "            d = self.euclidean( x, self.X_train[i] )\n",
    "            euclidean_distances[i] = d\n",
    "            \n",
    "        # sort Y_train according to euclidean_distance_array and\n",
    "        # store into Y_train_sorted\n",
    "        inds = euclidean_distances.argsort()\n",
    "        Y_train_sorted = self.Y_train[inds]\n",
    "        return Y_train_sorted[:self.K]\n",
    "    \n",
    "    # Function to calculate euclidean distance\n",
    "                \n",
    "    def euclidean( self, x, x_train ) :\n",
    "        return np.sqrt( np.sum( np.square( x - x_train ) ) )"
   ]
  },
  {
   "cell_type": "code",
   "execution_count": 4,
   "id": "6fe379a7",
   "metadata": {},
   "outputs": [],
   "source": [
    "def get_accuracy(Y_test,Y_pred):\n",
    "    correctly_classified = 0\n",
    "    count = 0\n",
    "    \n",
    "    for count in range( np.size( Y_pred ) ) :\n",
    "        if Y_test[count] == Y_pred[count] :\n",
    "            correctly_classified += 1 \n",
    "        count = count + 1\n",
    "    accuracy = (correctly_classified / count) * 100\n",
    "    return accuracy"
   ]
  },
  {
   "cell_type": "code",
   "execution_count": 5,
   "id": "31379bc8",
   "metadata": {},
   "outputs": [],
   "source": [
    "from sklearn.model_selection import train_test_split\n",
    "def data_split(X, Y):\n",
    "    return train_test_split( X, Y, test_size = 0.2, random_state = 0 )"
   ]
  },
  {
   "cell_type": "markdown",
   "id": "a76075a6",
   "metadata": {},
   "source": [
    "# Classification 1 "
   ]
  },
  {
   "cell_type": "code",
   "execution_count": 6,
   "id": "50298e4e",
   "metadata": {},
   "outputs": [],
   "source": [
    "train1 = np.loadtxt('TrainData1.txt')\n",
    "train1_label = np.loadtxt('TrainLabel1.txt')"
   ]
  },
  {
   "cell_type": "code",
   "execution_count": 7,
   "id": "db9a2a11",
   "metadata": {},
   "outputs": [
    {
     "data": {
      "text/plain": [
       "(150, 3312)"
      ]
     },
     "execution_count": 7,
     "metadata": {},
     "output_type": "execute_result"
    }
   ],
   "source": [
    "train1.shape"
   ]
  },
  {
   "cell_type": "code",
   "execution_count": 8,
   "id": "2e0e4509",
   "metadata": {},
   "outputs": [],
   "source": [
    "# Handling missing values by column wise mean imputation\n",
    "\n",
    "col_avg = []\n",
    "for i in range(train1.shape[1]):\n",
    "    tot = 0\n",
    "    count = 0\n",
    "    for j in range(train1.shape[0]):\n",
    "        if train1[j][i] == 1e+99:\n",
    "            pass\n",
    "        else:\n",
    "            tot += train1[j][i]\n",
    "            count += 1\n",
    "    avg = tot / count\n",
    "    col_avg.append(avg)\n",
    "\n",
    "for i in range(train1.shape[1]):\n",
    "    for j in range(train1.shape[0]):\n",
    "        if train1[j][i] == 1e+99:\n",
    "            train1[j][i] = col_avg[i]"
   ]
  },
  {
   "cell_type": "code",
   "execution_count": 9,
   "id": "07eabc5c",
   "metadata": {},
   "outputs": [
    {
     "name": "stdout",
     "output_type": "stream",
     "text": [
      "Accuracy is :  93.33333333333333\n"
     ]
    }
   ],
   "source": [
    "# Testing model without normalization\n",
    "\n",
    "X_train, X_test, Y_train, Y_test = data_split(train1, train1_label)\n",
    "model = K_Nearest_Neighbors_Classifier( K = 1 )\n",
    "model.fit( X_train, Y_train )\n",
    "Y_pred = model.predict( X_test )\n",
    "print(\"Accuracy is : \", get_accuracy(Y_test, Y_pred))"
   ]
  },
  {
   "cell_type": "code",
   "execution_count": 10,
   "id": "e47ab5c7",
   "metadata": {},
   "outputs": [
    {
     "name": "stdout",
     "output_type": "stream",
     "text": [
      "Accuracy is :  96.66666666666667\n"
     ]
    }
   ],
   "source": [
    "# Testing model after normalization\n",
    "\n",
    "from sklearn.preprocessing import OrdinalEncoder\n",
    "enc = OrdinalEncoder()\n",
    "X_train_encoded = enc.fit_transform(train1)\n",
    "X_train, X_test, Y_train, Y_test = data_split(X_train_encoded, train1_label)\n",
    "model = K_Nearest_Neighbors_Classifier( K = 1 )\n",
    "model.fit( X_train, Y_train )\n",
    "Y_pred = model.predict( X_test )\n",
    "print(\"Accuracy is : \", get_accuracy(Y_test, Y_pred))"
   ]
  },
  {
   "cell_type": "code",
   "execution_count": 11,
   "id": "686884b1",
   "metadata": {},
   "outputs": [],
   "source": [
    "model1 = KNeighborsClassifier()"
   ]
  },
  {
   "cell_type": "code",
   "execution_count": 12,
   "id": "dcffff52",
   "metadata": {},
   "outputs": [
    {
     "name": "stdout",
     "output_type": "stream",
     "text": [
      "0.9583333333333334\n"
     ]
    },
    {
     "data": {
      "text/plain": [
       "{'metric': 'minkowski', 'n_neighbors': 3, 'weights': 'uniform'}"
      ]
     },
     "execution_count": 12,
     "metadata": {},
     "output_type": "execute_result"
    }
   ],
   "source": [
    "# Using Grid Search to find the best KNN model with optimal K and distance metric\n",
    "from sklearn.model_selection import GridSearchCV\n",
    "parameters = {'n_neighbors':[1,3,5,7,9,11,13,15,17,19,21], 'metric':['minkowski', 'euclidean'], 'weights':['uniform', 'distance']}\n",
    "grid = GridSearchCV(model1, parameters, scoring = 'accuracy')\n",
    "\n",
    "grid.fit(X_train, Y_train)\n",
    "\n",
    "accuracy = grid.best_score_\n",
    "print(accuracy)\n",
    "\n",
    "grid.best_params_"
   ]
  },
  {
   "cell_type": "code",
   "execution_count": 13,
   "id": "514403e0",
   "metadata": {},
   "outputs": [
    {
     "data": {
      "text/plain": [
       "0.9"
      ]
     },
     "execution_count": 13,
     "metadata": {},
     "output_type": "execute_result"
    }
   ],
   "source": [
    "best = grid.best_estimator_\n",
    "best.score(X_test, Y_test)"
   ]
  },
  {
   "cell_type": "code",
   "execution_count": 14,
   "id": "d906f8cb",
   "metadata": {},
   "outputs": [],
   "source": [
    "test1 = np.loadtxt('TestData1.txt')\n",
    "test1 = enc.fit_transform(test1)\n",
    "pred = model.predict(test1)\n",
    "np.savetxt(\"GelliClassification1.txt\", pred, fmt='%d')"
   ]
  },
  {
   "cell_type": "markdown",
   "id": "f80b8887",
   "metadata": {},
   "source": [
    "# Classification 2 :"
   ]
  },
  {
   "cell_type": "code",
   "execution_count": 15,
   "id": "d689d958",
   "metadata": {},
   "outputs": [
    {
     "name": "stdout",
     "output_type": "stream",
     "text": [
      "(100, 9182) (100,)\n"
     ]
    }
   ],
   "source": [
    "# Loading Dataset 2\n",
    "\n",
    "train2 = np.loadtxt('TrainData2.txt')\n",
    "train2_label = np.loadtxt('TrainLabel2.txt')\n",
    "X_train_encoded2 = enc.fit_transform(train2)\n",
    "print(train2.shape, train2_label.shape)"
   ]
  },
  {
   "cell_type": "code",
   "execution_count": 16,
   "id": "d293172d",
   "metadata": {},
   "outputs": [],
   "source": [
    "# Handling missing values by column wise mean imputation\n",
    "col_avg = []\n",
    "for i in range(train2.shape[1]):\n",
    "    tot = 0\n",
    "    count = 0\n",
    "    for j in range(train2.shape[0]):\n",
    "        if train2[j][i] == 1e+99:\n",
    "            pass\n",
    "        else:\n",
    "            tot += train2[j][i]\n",
    "            count += 1\n",
    "    avg = tot / count\n",
    "    col_avg.append(avg)\n",
    "\n",
    "for i in range(train2.shape[1]):\n",
    "    for j in range(train2.shape[0]):\n",
    "        if train2[j][i] == 1e+99:\n",
    "            train2[j][i] = col_avg[i]"
   ]
  },
  {
   "cell_type": "code",
   "execution_count": 17,
   "id": "11adde42",
   "metadata": {},
   "outputs": [
    {
     "name": "stdout",
     "output_type": "stream",
     "text": [
      "Accuracy is :  95.0\n"
     ]
    }
   ],
   "source": [
    "# Testing model without normalization\n",
    "\n",
    "X_train, X_test, Y_train, Y_test = data_split(train2, train2_label)\n",
    "model = K_Nearest_Neighbors_Classifier( K = 1 )\n",
    "model.fit( X_train, Y_train )\n",
    "Y_pred = model.predict( X_test )\n",
    "print(\"Accuracy is : \", get_accuracy(Y_test, Y_pred))"
   ]
  },
  {
   "cell_type": "code",
   "execution_count": 18,
   "id": "143471fd",
   "metadata": {},
   "outputs": [
    {
     "name": "stdout",
     "output_type": "stream",
     "text": [
      "Accuracy is :  100.0\n"
     ]
    }
   ],
   "source": [
    "# Testing model after normalization\n",
    "\n",
    "from sklearn.preprocessing import MinMaxScaler\n",
    "scaler = MinMaxScaler()\n",
    "X_train_encoded2 = scaler.fit_transform(train2)\n",
    "X_train, X_test, Y_train, Y_test = data_split(X_train_encoded2, train2_label)\n",
    "model = K_Nearest_Neighbors_Classifier( K = 1 )\n",
    "model.fit( X_train, Y_train )\n",
    "Y_pred = model.predict( X_test )\n",
    "print(\"Accuracy is : \", get_accuracy(Y_test, Y_pred))"
   ]
  },
  {
   "cell_type": "code",
   "execution_count": 19,
   "id": "ece5da84",
   "metadata": {},
   "outputs": [
    {
     "name": "stdout",
     "output_type": "stream",
     "text": [
      "0.85\n",
      "{'metric': 'minkowski', 'n_neighbors': 1, 'weights': 'uniform'}\n"
     ]
    },
    {
     "data": {
      "text/plain": [
       "1.0"
      ]
     },
     "execution_count": 19,
     "metadata": {},
     "output_type": "execute_result"
    }
   ],
   "source": [
    "parameters = {'n_neighbors':[1,3,5,7,9,11,13,15,17,19,21], 'metric':['minkowski', 'euclidean'], 'weights':['uniform', 'distance']}\n",
    "grid = GridSearchCV(model1, parameters, scoring = 'accuracy')\n",
    "\n",
    "grid.fit(X_train, Y_train)\n",
    "\n",
    "accuracy = grid.best_score_\n",
    "print(accuracy)\n",
    "\n",
    "print(grid.best_params_)\n",
    "\n",
    "best = grid.best_estimator_\n",
    "best.score(X_test, Y_test)"
   ]
  },
  {
   "cell_type": "code",
   "execution_count": 20,
   "id": "18b26b5a",
   "metadata": {},
   "outputs": [],
   "source": [
    "test2 = np.loadtxt('TestData2.txt')"
   ]
  },
  {
   "cell_type": "code",
   "execution_count": 21,
   "id": "9b080ac1",
   "metadata": {},
   "outputs": [],
   "source": [
    "test2 = scaler.fit_transform(test2)\n",
    "pred = model.predict(test2)\n",
    "\n",
    "np.savetxt(\"GelliClassification2.txt\", pred, fmt='%d')"
   ]
  },
  {
   "cell_type": "markdown",
   "id": "9fe6a726",
   "metadata": {},
   "source": [
    "# Classification 3"
   ]
  },
  {
   "cell_type": "code",
   "execution_count": 22,
   "id": "465276cf",
   "metadata": {},
   "outputs": [],
   "source": [
    "train3 = np.loadtxt('TrainData3.txt')\n",
    "train3_label = np.loadtxt('TrainLabel3.txt')"
   ]
  },
  {
   "cell_type": "code",
   "execution_count": 23,
   "id": "aaa44329",
   "metadata": {},
   "outputs": [
    {
     "name": "stdout",
     "output_type": "stream",
     "text": [
      "(6300, 13)\n",
      "13\n",
      "6102\n"
     ]
    }
   ],
   "source": [
    "# Handling missing values by column wise mean imputation\n",
    "\n",
    "col_avg = []\n",
    "for i in range(train3.shape[1]):\n",
    "    tot = 0\n",
    "    count = 0\n",
    "    for j in range(train3.shape[0]):\n",
    "        if train3[j][i] == 1e+99:\n",
    "            pass\n",
    "        else:\n",
    "            tot += train3[j][i]\n",
    "            count += 1\n",
    "    avg = tot / count\n",
    "    col_avg.append(avg)\n",
    "\n",
    "for i in range(train3.shape[1]):\n",
    "    for j in range(train3.shape[0]):\n",
    "        if train3[j][i] == 1e+99:\n",
    "            train3[j][i] = col_avg[i]\n",
    "print(train3.shape)\n",
    "print(len(col_avg))\n",
    "print(count)"
   ]
  },
  {
   "cell_type": "code",
   "execution_count": 24,
   "id": "e36bb0ea",
   "metadata": {},
   "outputs": [
    {
     "name": "stdout",
     "output_type": "stream",
     "text": [
      "Accuracy is :  32.22222222222222\n"
     ]
    }
   ],
   "source": [
    "# Testing model without normalization\n",
    "from sklearn.utils import shuffle\n",
    "train3, train3_label = shuffle(train3, train3_label)\n",
    "X_train, X_test, Y_train, Y_test = data_split(train3, train3_label)\n",
    "model = K_Nearest_Neighbors_Classifier( K = 21 )\n",
    "model.fit( X_train, Y_train )\n",
    "Y_pred = model.predict( X_test )\n",
    "print(\"Accuracy is : \", get_accuracy(Y_test, Y_pred))"
   ]
  },
  {
   "cell_type": "code",
   "execution_count": 25,
   "id": "b31b082f",
   "metadata": {},
   "outputs": [
    {
     "name": "stdout",
     "output_type": "stream",
     "text": [
      "Accuracy is :  30.476190476190478\n"
     ]
    }
   ],
   "source": [
    "# Testing model after normalization\n",
    "\n",
    "X_train_encoded3 = enc.fit_transform(train3)\n",
    "X_train, X_test, Y_train, Y_test = data_split(X_train_encoded3, train3_label)\n",
    "model = K_Nearest_Neighbors_Classifier( K = 21 )\n",
    "model.fit( X_train, Y_train )\n",
    "Y_pred = model.predict( X_test )\n",
    "print(\"Accuracy is : \", get_accuracy(Y_test, Y_pred))"
   ]
  },
  {
   "cell_type": "code",
   "execution_count": 26,
   "id": "f4e50825",
   "metadata": {},
   "outputs": [
    {
     "name": "stdout",
     "output_type": "stream",
     "text": [
      "0.3253968253968254\n",
      "{'metric': 'minkowski', 'n_neighbors': 19, 'weights': 'uniform'}\n"
     ]
    },
    {
     "data": {
      "text/plain": [
       "0.30714285714285716"
      ]
     },
     "execution_count": 26,
     "metadata": {},
     "output_type": "execute_result"
    }
   ],
   "source": [
    "parameters = {'n_neighbors':[1,3,5,7,9,11,13,15,17,19,21], 'metric':['minkowski', 'euclidean'], 'weights':['uniform', 'distance']}\n",
    "grid = GridSearchCV(model1, parameters, scoring = 'accuracy')\n",
    "\n",
    "grid.fit(X_train, Y_train)\n",
    "\n",
    "accuracy = grid.best_score_\n",
    "print(accuracy)\n",
    "\n",
    "print(grid.best_params_)\n",
    "\n",
    "best = grid.best_estimator_\n",
    "best.score(X_test, Y_test)"
   ]
  },
  {
   "cell_type": "code",
   "execution_count": 27,
   "id": "c78acb5d",
   "metadata": {},
   "outputs": [],
   "source": [
    "import pandas as pd\n",
    "df = pd.read_csv('TestData3.txt', header=None)"
   ]
  },
  {
   "cell_type": "code",
   "execution_count": 28,
   "id": "338a7250",
   "metadata": {},
   "outputs": [
    {
     "data": {
      "text/plain": [
       "(2693, 13)"
      ]
     },
     "execution_count": 28,
     "metadata": {},
     "output_type": "execute_result"
    }
   ],
   "source": [
    "test3 = df.to_numpy()\n",
    "test3.shape"
   ]
  },
  {
   "cell_type": "code",
   "execution_count": 29,
   "id": "8a8aac1b",
   "metadata": {},
   "outputs": [],
   "source": [
    "test3 = enc.fit_transform(train3)\n",
    "pred = model.predict(test3)\n",
    "\n",
    "np.savetxt(\"GelliClassification3.txt\", pred, fmt='%d')"
   ]
  },
  {
   "cell_type": "markdown",
   "id": "44faa104",
   "metadata": {},
   "source": [
    "# Classification 4"
   ]
  },
  {
   "cell_type": "code",
   "execution_count": 30,
   "id": "b40ca739",
   "metadata": {},
   "outputs": [],
   "source": [
    "train4 = np.loadtxt('TrainData4.txt')\n",
    "train4_label = np.loadtxt('TrainLabel4.txt')"
   ]
  },
  {
   "cell_type": "code",
   "execution_count": 31,
   "id": "236e63d5",
   "metadata": {},
   "outputs": [
    {
     "name": "stdout",
     "output_type": "stream",
     "text": [
      "(2547, 112)\n",
      "112\n",
      "2547\n"
     ]
    }
   ],
   "source": [
    "# Handling missing values by column wise mean imputation\n",
    "\n",
    "col_avg = []\n",
    "for i in range(train4.shape[1]):\n",
    "    tot = 0\n",
    "    count = 0\n",
    "    for j in range(train4.shape[0]):\n",
    "        if train4[j][i] == 1e+99:\n",
    "            pass\n",
    "        else:\n",
    "            tot += train4[j][i]\n",
    "            count += 1\n",
    "    avg = tot / count\n",
    "    col_avg.append(avg)\n",
    "\n",
    "for i in range(train4.shape[1]):\n",
    "    for j in range(train4.shape[0]):\n",
    "        if train4[j][i] == 1e+99:\n",
    "            train4[j][i] = col_avg[i]\n",
    "print(train4.shape)\n",
    "print(len(col_avg))\n",
    "print(count)"
   ]
  },
  {
   "cell_type": "code",
   "execution_count": 32,
   "id": "972e632f",
   "metadata": {},
   "outputs": [
    {
     "name": "stdout",
     "output_type": "stream",
     "text": [
      "Accuracy is :  73.92156862745098\n"
     ]
    }
   ],
   "source": [
    "# Testing model without normalization\n",
    "\n",
    "train4, train4_label = shuffle(train4, train4_label)\n",
    "X_train, X_test, Y_train, Y_test = data_split(train4, train4_label)\n",
    "model = K_Nearest_Neighbors_Classifier( K = 5 )\n",
    "model.fit( X_train, Y_train )\n",
    "Y_pred = model.predict( X_test )\n",
    "print(\"Accuracy is : \", get_accuracy(Y_test, Y_pred))"
   ]
  },
  {
   "cell_type": "code",
   "execution_count": 33,
   "id": "5aa0b98f",
   "metadata": {},
   "outputs": [
    {
     "name": "stdout",
     "output_type": "stream",
     "text": [
      "Accuracy is :  83.72549019607844\n"
     ]
    }
   ],
   "source": [
    "# Testing model after normalization\n",
    "\n",
    "X_train_encoded4 = enc.fit_transform(train4)\n",
    "X_train, X_test, Y_train, Y_test = data_split(X_train_encoded4, train4_label)\n",
    "model = K_Nearest_Neighbors_Classifier( K = 3 )\n",
    "model.fit( X_train, Y_train )\n",
    "Y_pred = model.predict( X_test )\n",
    "print(\"Accuracy is : \", get_accuracy(Y_test, Y_pred))"
   ]
  },
  {
   "cell_type": "code",
   "execution_count": 34,
   "id": "218deef9",
   "metadata": {},
   "outputs": [
    {
     "name": "stdout",
     "output_type": "stream",
     "text": [
      "0.8384761767114709\n",
      "{'metric': 'minkowski', 'n_neighbors': 3, 'weights': 'distance'}\n"
     ]
    },
    {
     "data": {
      "text/plain": [
       "0.8470588235294118"
      ]
     },
     "execution_count": 34,
     "metadata": {},
     "output_type": "execute_result"
    }
   ],
   "source": [
    "parameters = {'n_neighbors':[1,3,5,7,9,11,13,15,17,19,21], 'metric':['minkowski', 'euclidean'], 'weights':['uniform', 'distance']}\n",
    "grid = GridSearchCV(model1, parameters, scoring = 'accuracy')\n",
    "\n",
    "grid.fit(X_train, Y_train)\n",
    "\n",
    "accuracy = grid.best_score_\n",
    "print(accuracy)\n",
    "\n",
    "print(grid.best_params_)\n",
    "\n",
    "best = grid.best_estimator_\n",
    "best.score(X_test, Y_test)"
   ]
  },
  {
   "cell_type": "code",
   "execution_count": 35,
   "id": "a57a6fbf",
   "metadata": {},
   "outputs": [],
   "source": [
    "test4 = np.loadtxt('TestData4.txt')"
   ]
  },
  {
   "cell_type": "code",
   "execution_count": 36,
   "id": "3ad7dbb8",
   "metadata": {},
   "outputs": [],
   "source": [
    "test4 = enc.fit_transform(test4)\n",
    "pred = model.predict(test4)\n",
    "np.savetxt(\"GelliClassification4.txt\", pred, fmt='%d')"
   ]
  },
  {
   "cell_type": "markdown",
   "id": "e5622817",
   "metadata": {},
   "source": [
    "# Classification 5"
   ]
  },
  {
   "cell_type": "code",
   "execution_count": 51,
   "id": "8fad9553",
   "metadata": {},
   "outputs": [],
   "source": [
    "# Loading Dataset 5\n",
    "\n",
    "train5 = np.loadtxt('TrainData5.txt')\n",
    "train5_label = np.loadtxt('TrainLabel5.txt')\n",
    "train5, train5_label = shuffle(train5, train5_label)"
   ]
  },
  {
   "cell_type": "code",
   "execution_count": 52,
   "id": "16b20a26",
   "metadata": {},
   "outputs": [
    {
     "name": "stdout",
     "output_type": "stream",
     "text": [
      "(1119, 11)\n",
      "11\n",
      "1119\n"
     ]
    }
   ],
   "source": [
    "# Handling missing values by column wise mean imputation\n",
    "\n",
    "col_avg = []\n",
    "for i in range(train5.shape[1]):\n",
    "    tot = 0\n",
    "    count = 0\n",
    "    for j in range(train5.shape[0]):\n",
    "        if train5[j][i] == 1e+99:\n",
    "            pass\n",
    "        else:\n",
    "            tot += train5[j][i]\n",
    "            count += 1\n",
    "    avg = tot / count\n",
    "    col_avg.append(avg)\n",
    "\n",
    "for i in range(train5.shape[1]):\n",
    "    for j in range(train5.shape[0]):\n",
    "        if train5[j][i] == 1e+99:\n",
    "            train5[j][i] = col_avg[i]\n",
    "print(train5.shape)\n",
    "print(len(col_avg))\n",
    "print(count)"
   ]
  },
  {
   "cell_type": "code",
   "execution_count": 53,
   "id": "b2fb7d61",
   "metadata": {},
   "outputs": [
    {
     "name": "stdout",
     "output_type": "stream",
     "text": [
      "Accuracy is :  47.767857142857146\n"
     ]
    }
   ],
   "source": [
    "# Testing model without normalization\n",
    "\n",
    "X_train, X_test, Y_train, Y_test = data_split(train5, train5_label)\n",
    "model = K_Nearest_Neighbors_Classifier( K = 1 )\n",
    "model.fit( X_train, Y_train )\n",
    "Y_pred = model.predict( X_test )\n",
    "print(\"Accuracy is : \", get_accuracy(Y_test, Y_pred))"
   ]
  },
  {
   "cell_type": "code",
   "execution_count": 54,
   "id": "cb8de317",
   "metadata": {},
   "outputs": [
    {
     "name": "stdout",
     "output_type": "stream",
     "text": [
      "Accuracy is :  61.60714285714286\n"
     ]
    }
   ],
   "source": [
    "# Testing model after normalization\n",
    "\n",
    "X_train_encoded5 = enc.fit_transform(train5)\n",
    "X_train, X_test, Y_train, Y_test = data_split(X_train_encoded5, train5_label)\n",
    "model = K_Nearest_Neighbors_Classifier( K = 1 )\n",
    "model.fit( X_train, Y_train )\n",
    "Y_pred = model.predict( X_test )\n",
    "print(\"Accuracy is : \", get_accuracy(Y_test, Y_pred))"
   ]
  },
  {
   "cell_type": "code",
   "execution_count": 55,
   "id": "0c038b40",
   "metadata": {},
   "outputs": [
    {
     "name": "stdout",
     "output_type": "stream",
     "text": [
      "0.5787709497206703\n",
      "{'metric': 'minkowski', 'n_neighbors': 1, 'weights': 'uniform'}\n"
     ]
    },
    {
     "data": {
      "text/plain": [
       "0.6160714285714286"
      ]
     },
     "execution_count": 55,
     "metadata": {},
     "output_type": "execute_result"
    }
   ],
   "source": [
    "parameters = {'n_neighbors':[1,3,5,7,9,11,13,15,17,19,21], 'metric':['minkowski', 'euclidean'], 'weights':['uniform']}\n",
    "grid = GridSearchCV(model1, parameters, scoring = 'accuracy')\n",
    "grid.fit(X_train, Y_train)\n",
    "accuracy = grid.best_score_\n",
    "print(accuracy)\n",
    "print(grid.best_params_)\n",
    "\n",
    "best = grid.best_estimator_\n",
    "best.score(X_test, Y_test)"
   ]
  },
  {
   "cell_type": "code",
   "execution_count": 56,
   "id": "59334c0b",
   "metadata": {},
   "outputs": [],
   "source": [
    "test5 = np.loadtxt('TestData5.txt')"
   ]
  },
  {
   "cell_type": "code",
   "execution_count": 57,
   "id": "20da4a27",
   "metadata": {},
   "outputs": [],
   "source": [
    "test5 = enc.fit_transform(test5)\n",
    "pred = model.predict(test5)\n",
    "np.savetxt(\"GelliClassification5.txt\", pred, fmt='%d')"
   ]
  },
  {
   "cell_type": "markdown",
   "id": "aec5f99e",
   "metadata": {},
   "source": [
    "# Classification 6 (Regression)"
   ]
  },
  {
   "cell_type": "code",
   "execution_count": 44,
   "id": "b2ed64b2",
   "metadata": {},
   "outputs": [],
   "source": [
    "train6 = np.loadtxt('TrainData6.txt')\n",
    "train6_label = np.loadtxt('TrainLabel6.txt')\n",
    "#X_train_encoded6 = enc.fit_transform(train6)"
   ]
  },
  {
   "cell_type": "code",
   "execution_count": 45,
   "id": "99443f4d",
   "metadata": {},
   "outputs": [
    {
     "data": {
      "text/plain": [
       "0.17753144035150115"
      ]
     },
     "execution_count": 45,
     "metadata": {},
     "output_type": "execute_result"
    }
   ],
   "source": [
    "# Building a Regression Model\n",
    "from sklearn.neighbors import KNeighborsRegressor\n",
    "neigh = KNeighborsRegressor(n_neighbors=3)\n",
    "neigh.fit(train6[:500], train6_label[:500])\n",
    "y_pred = neigh.predict(train6[500:])\n",
    "neigh.score(train6[500:], train6_label[500:])"
   ]
  },
  {
   "cell_type": "code",
   "execution_count": 46,
   "id": "b1de26ca",
   "metadata": {},
   "outputs": [
    {
     "data": {
      "text/plain": [
       "0.3014139366273568"
      ]
     },
     "execution_count": 46,
     "metadata": {},
     "output_type": "execute_result"
    }
   ],
   "source": [
    "# Building a Regression Model\n",
    "\n",
    "from sklearn.ensemble import RandomForestRegressor\n",
    "regr = RandomForestRegressor(max_depth=2, random_state=0)\n",
    "regr.fit(train6[:500], train6_label[:500])\n",
    "\n",
    "regr.score(train6[500:], train6_label[500:])"
   ]
  },
  {
   "cell_type": "code",
   "execution_count": 47,
   "id": "c5f567b7",
   "metadata": {},
   "outputs": [
    {
     "data": {
      "text/plain": [
       "0.3389989738759125"
      ]
     },
     "execution_count": 47,
     "metadata": {},
     "output_type": "execute_result"
    }
   ],
   "source": [
    "# Building a Regression Model\n",
    "\n",
    "from sklearn.ensemble import GradientBoostingRegressor\n",
    "est = GradientBoostingRegressor(n_estimators=100, learning_rate=0.1, max_depth=1, random_state=0).fit(train6[:500], train6_label[:500])\n",
    "\n",
    "est.score(train6[500:], train6_label[500:])"
   ]
  },
  {
   "cell_type": "code",
   "execution_count": 48,
   "id": "55ba859e",
   "metadata": {},
   "outputs": [
    {
     "data": {
      "text/plain": [
       "0.46701715715238457"
      ]
     },
     "execution_count": 48,
     "metadata": {},
     "output_type": "execute_result"
    }
   ],
   "source": [
    "# Building a Regression Model\n",
    "\n",
    "from sklearn.linear_model import RidgeCV\n",
    "clf = RidgeCV(alphas=[1e-1, 1, 10, 100, 1000, 10000]).fit(train6[:500], train6_label[:500])\n",
    "clf.score(train6[500:], train6_label[500:])"
   ]
  },
  {
   "cell_type": "code",
   "execution_count": 49,
   "id": "189bf210",
   "metadata": {},
   "outputs": [],
   "source": [
    "test6 = np.loadtxt('TestData6.txt')"
   ]
  },
  {
   "cell_type": "code",
   "execution_count": 50,
   "id": "cc6adf80",
   "metadata": {},
   "outputs": [],
   "source": [
    "pred = clf.predict(test6)\n",
    "np.savetxt(\"GelliClassification6.txt\", pred, fmt='%d')"
   ]
  },
  {
   "cell_type": "code",
   "execution_count": null,
   "id": "050d00c3",
   "metadata": {},
   "outputs": [],
   "source": []
  }
 ],
 "metadata": {
  "kernelspec": {
   "display_name": "Python 3",
   "language": "python",
   "name": "python3"
  },
  "language_info": {
   "codemirror_mode": {
    "name": "ipython",
    "version": 3
   },
   "file_extension": ".py",
   "mimetype": "text/x-python",
   "name": "python",
   "nbconvert_exporter": "python",
   "pygments_lexer": "ipython3",
   "version": "3.8.8"
  }
 },
 "nbformat": 4,
 "nbformat_minor": 5
}

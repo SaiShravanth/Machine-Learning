{
 "cells": [
  {
   "cell_type": "markdown",
   "id": "dad5cd09",
   "metadata": {},
   "source": [
    "# Missing Value Estimation\n",
    "\n",
    "Gene expression data often contain missing expression values and it is very important to estimate those missing value as accurate as possible. The first task of the course project is to estimate missing value in the Microarray Data.\n",
    "\n",
    "Dataset 1 contains 242 genes with 14 samples.\n",
    "\n",
    "Dataset 2 contains 758 genes with 50 samples.\n",
    "\n",
    "Dataset 3 contains 273 viruses with 79 samples. There are only 3815 observed values.\n",
    "\n",
    "\n",
    "Note that the missing entry is filled by 1.00000000000000e+99. There are 4% missing values in the Dataset 1 and 10% missing values in the Dataset 2. Please fill those missing entries with estimated values and return the complete dataset to me."
   ]
  },
  {
   "cell_type": "markdown",
   "id": "13c43e64",
   "metadata": {},
   "source": [
    "# Dataset 1"
   ]
  },
  {
   "cell_type": "code",
   "execution_count": 1,
   "id": "ab7d967f",
   "metadata": {},
   "outputs": [],
   "source": [
    "import numpy as np\n",
    "import matplotlib.pyplot as plt\n",
    "from sklearn.neighbors import KNeighborsClassifier, NeighborhoodComponentsAnalysis\n",
    "from sklearn.impute import KNNImputer\n"
   ]
  },
  {
   "cell_type": "code",
   "execution_count": 2,
   "id": "bac4f217",
   "metadata": {},
   "outputs": [
    {
     "data": {
      "text/plain": [
       "(242, 14)"
      ]
     },
     "execution_count": 2,
     "metadata": {},
     "output_type": "execute_result"
    }
   ],
   "source": [
    "mve1 = np.loadtxt('MissingData1.txt')\n",
    "mve1.shape"
   ]
  },
  {
   "cell_type": "code",
   "execution_count": 3,
   "id": "c202a4a4",
   "metadata": {},
   "outputs": [
    {
     "name": "stdout",
     "output_type": "stream",
     "text": [
      "Number of Missing Values : 118\n"
     ]
    }
   ],
   "source": [
    "# Counting Number of Missing Values\n",
    "count=0\n",
    "for i in range(mve1.shape[0]):\n",
    "    for j in range(mve1.shape[1]):\n",
    "        if mve1[i][j] == 1e+99:\n",
    "            count += 1\n",
    "            if mve1[i][j] == 1e+99:\n",
    "                mve1[i][j] = np.nan\n",
    "            \n",
    "print(\"Number of Missing Values :\",count)"
   ]
  },
  {
   "cell_type": "code",
   "execution_count": 4,
   "id": "c28f26fc",
   "metadata": {},
   "outputs": [],
   "source": [
    "#Using KNN Imputer to fill the missing values\n",
    "imputer = KNNImputer()\n",
    "imputer.fit(mve1)\n",
    "Xtrans = imputer.transform(mve1)"
   ]
  },
  {
   "cell_type": "code",
   "execution_count": 5,
   "id": "53b05c9a",
   "metadata": {},
   "outputs": [],
   "source": [
    "np.savetxt(\"GelliMissingResult1.txt\", Xtrans, delimiter=\" \", fmt='%1.5f')"
   ]
  },
  {
   "cell_type": "markdown",
   "id": "97c945e0",
   "metadata": {},
   "source": [
    "# Dataset 2"
   ]
  },
  {
   "cell_type": "code",
   "execution_count": 6,
   "id": "e63d3c24",
   "metadata": {},
   "outputs": [
    {
     "data": {
      "text/plain": [
       "(758, 50)"
      ]
     },
     "execution_count": 6,
     "metadata": {},
     "output_type": "execute_result"
    }
   ],
   "source": [
    "mve2 = np.loadtxt('MissingData2.txt')\n",
    "mve2.shape"
   ]
  },
  {
   "cell_type": "code",
   "execution_count": 7,
   "id": "2c21c7c5",
   "metadata": {},
   "outputs": [
    {
     "name": "stdout",
     "output_type": "stream",
     "text": [
      "Number of Missing Values : 3762\n"
     ]
    }
   ],
   "source": [
    "# Counting Number of Missing Values\n",
    "count=0\n",
    "for i in range(mve2.shape[0]):\n",
    "    for j in range(mve2.shape[1]):\n",
    "        if mve2[i][j] == 1e+99:\n",
    "            count += 1\n",
    "            if mve2[i][j] == 1e+99:\n",
    "                mve2[i][j] = np.nan\n",
    "            \n",
    "print(\"Number of Missing Values :\",count)"
   ]
  },
  {
   "cell_type": "code",
   "execution_count": 8,
   "id": "14593b99",
   "metadata": {},
   "outputs": [],
   "source": [
    "#Using KNN Imputer to fill the missing values\n",
    "imputer = KNNImputer()\n",
    "imputer.fit(mve2)\n",
    "Xtrans2 = imputer.transform(mve2)"
   ]
  },
  {
   "cell_type": "code",
   "execution_count": 9,
   "id": "8486aeca",
   "metadata": {},
   "outputs": [],
   "source": [
    "np.savetxt(\"GelliMissingResult2.txt\", Xtrans2, delimiter=\" \", fmt='%1.5f')"
   ]
  },
  {
   "cell_type": "markdown",
   "id": "20c0a919",
   "metadata": {},
   "source": [
    "# Dataset 3"
   ]
  },
  {
   "cell_type": "code",
   "execution_count": 10,
   "id": "5d100fa1",
   "metadata": {},
   "outputs": [
    {
     "data": {
      "text/plain": [
       "(273, 79)"
      ]
     },
     "execution_count": 10,
     "metadata": {},
     "output_type": "execute_result"
    }
   ],
   "source": [
    "mve3 = np.loadtxt('MissingData3.txt')\n",
    "mve3.shape"
   ]
  },
  {
   "cell_type": "code",
   "execution_count": 11,
   "id": "38bbd2ca",
   "metadata": {},
   "outputs": [
    {
     "name": "stdout",
     "output_type": "stream",
     "text": [
      "Number of Missing Values : 17752\n"
     ]
    }
   ],
   "source": [
    "# Counting Number of Missing Values\n",
    "count=0\n",
    "for i in range(mve3.shape[0]):\n",
    "    for j in range(mve3.shape[1]):\n",
    "        if mve3[i][j] == 1e+99:\n",
    "            count += 1\n",
    "            if mve3[i][j] == 1e+99:\n",
    "                mve3[i][j] = np.nan\n",
    "            \n",
    "print(\"Number of Missing Values :\",count)"
   ]
  },
  {
   "cell_type": "code",
   "execution_count": 12,
   "id": "d5d844a1",
   "metadata": {},
   "outputs": [],
   "source": [
    "#Using KNN Imputer to fill the missing values\n",
    "imputer = KNNImputer()\n",
    "imputer.fit(mve3)\n",
    "Xtrans3 = imputer.transform(mve3)"
   ]
  },
  {
   "cell_type": "code",
   "execution_count": 13,
   "id": "a7d560d3",
   "metadata": {},
   "outputs": [],
   "source": [
    "np.savetxt(\"GelliMissingResult3.txt\", Xtrans3, delimiter=\" \", fmt='%1.5f')"
   ]
  },
  {
   "cell_type": "code",
   "execution_count": null,
   "id": "ca10485a",
   "metadata": {},
   "outputs": [],
   "source": []
  }
 ],
 "metadata": {
  "kernelspec": {
   "display_name": "Python 3",
   "language": "python",
   "name": "python3"
  },
  "language_info": {
   "codemirror_mode": {
    "name": "ipython",
    "version": 3
   },
   "file_extension": ".py",
   "mimetype": "text/x-python",
   "name": "python",
   "nbconvert_exporter": "python",
   "pygments_lexer": "ipython3",
   "version": "3.8.8"
  }
 },
 "nbformat": 4,
 "nbformat_minor": 5
}
